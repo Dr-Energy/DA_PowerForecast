{
 "cells": [
  {
   "cell_type": "code",
   "execution_count": 1,
   "metadata": {},
   "outputs": [],
   "source": [
    "#urllib 라이브러리 임포트\n",
    "from urllib.request import urlopen"
   ]
  },
  {
   "cell_type": "code",
   "execution_count": 24,
   "metadata": {},
   "outputs": [
    {
     "name": "stdout",
     "output_type": "stream",
     "text": [
      "https://apihub.kma.go.kr/api/typ01/url/sfc_nc_var.php?tm1=202306110000&tm2=202306110300&lon=126.96579&obs=ta,rn_60m,ta_chi&itv=60&lat=37.57141&help=1&authKey=o3z5OEKSRAW8-ThCktQFdQ\n"
     ]
    }
   ],
   "source": [
    "#tm1=조회시작시간, tm2=조회종료시간\n",
    "#lon=경도, lat=위도, obs=요소, itv=자료조회간격\n",
    "#help(1): 도움말(출력결과 설명(헤더정보) 표출)\n",
    "#auth=인증키\n",
    "\n",
    "domain = \"https://apihub.kma.go.kr/api/typ01/url/sfc_nc_var.php?\"\n",
    "tm = \"tm1=202306110000&tm2=202306110300&\"\n",
    "lon=\"lon=126.96579&\"\n",
    "obs=\"obs=ta,rn_60m,ta_chi&\"\n",
    "itv=\"itv=60&\"\n",
    "lat=\"lat=37.57141&\"\n",
    "help=\"help=1&\"\n",
    "auth=\"authKey=o3z5OEKSRAW8-ThCktQFdQ\"\n",
    "\n",
    "url=domain+tm+lon+obs+itv+lat+help+auth\n",
    "print(url)"
   ]
  },
  {
   "cell_type": "code",
   "execution_count": 25,
   "metadata": {},
   "outputs": [
    {
     "name": "stdout",
     "output_type": "stream",
     "text": [
      "b'#START7777\\n#---------------------------------------------------------------------------------------\\n#  tm  : \\xb0\\xfc\\xc3\\xf8\\xbd\\xc3\\xb0\\xa2 (KST)\\n#  ta : \\xb1\\xe2\\xbf\\xc2(C)\\n#  ta_chi : \\xc3\\xbc\\xb0\\xa8\\xbf\\xc2\\xb5\\xb5(C)\\n#  td : \\xc0\\xcc\\xbd\\xbd\\xc1\\xa1 \\xbf\\xc2\\xb5\\xb5(C)\\n#  hm : \\xbb\\xf3\\xb4\\xeb\\xbd\\xc0\\xb5\\xb5 (%)\\n#  ws_10m : 10\\xba\\xd0\\xc6\\xf2\\xb1\\xd5\\xc7\\xb3\\xbc\\xd3 \\n#  wd_10m : 10\\xba\\xd0\\xc6\\xf2\\xb1\\xd5 \\xc7\\xb3\\xc7\\xe2\\n#  uu : u\\xbc\\xba\\xba\\xd0(10\\xba\\xd0 \\xc6\\xf2\\xb1\\xd5)\\n#  vv : v\\xbc\\xba\\xba\\xd0(10\\xba\\xd0 \\xc6\\xf2\\xb1\\xd5)\\n#  rn_15m : 15\\xba\\xd0 \\xb4\\xa9\\xc0\\xfb\\xb0\\xad\\xbc\\xf6 (mm)\\n#  rn_60m : 60\\xba\\xd0 \\xb4\\xa9\\xc0\\xfb\\xb0\\xad\\xbc\\xf6 (mm)\\n#  rn_day : \\xc0\\xcf\\xb0\\xad\\xbc\\xf6 (mm)\\n#  vs : \\xbd\\xc3\\xc1\\xa4 (km)\\n#  pa : \\xc7\\xf6\\xc1\\xf6\\xb1\\xe2\\xbe\\xd0 (hPa)\\n#  ps : \\xc7\\xd8\\xb8\\xe9\\xb1\\xe2\\xbe\\xd0 (hPa)\\n#---------------------------------------------------------------------------------------\\n# tm, ta, rn_60m, ta_chi\\n202306110000, 18.8, 0.2, 21.5\\n202306110100, 18.4, 3.0, 21.2\\n202306110200, 18.1, 1.2, 21.0\\n202306110300, 18.0, 5.1, 20.9\\n#7777END\\n\\n'\n"
     ]
    }
   ],
   "source": [
    "#f라는 이름으로 url 호출\n",
    "with urlopen(url) as f:\n",
    "    html=f.read()\n",
    "    print(html)"
   ]
  }
 ],
 "metadata": {
  "kernelspec": {
   "display_name": "Python 3",
   "language": "python",
   "name": "python3"
  },
  "language_info": {
   "codemirror_mode": {
    "name": "ipython",
    "version": 3
   },
   "file_extension": ".py",
   "mimetype": "text/x-python",
   "name": "python",
   "nbconvert_exporter": "python",
   "pygments_lexer": "ipython3",
   "version": "3.9.13"
  }
 },
 "nbformat": 4,
 "nbformat_minor": 2
}
